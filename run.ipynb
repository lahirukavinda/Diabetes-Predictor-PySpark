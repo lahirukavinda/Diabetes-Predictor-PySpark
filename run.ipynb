{
 "cells": [
  {
   "cell_type": "markdown",
   "id": "8bf78e3e",
   "metadata": {},
   "source": [
    "# Diabetes Predictor\n",
    "\n",
    "#### Three data tables\n",
    "1. Diabetics dataset \\\n",
    "&emsp;National Institute of Diabetes and Digestive and Kidney Diseases\n",
    "https://www.kaggle.com/uciml/pima-indians-diabetes-database/data\n",
    "2. Province wise travel cost\n",
    "3. Hospital charges\n",
    "\n",
    "Q1: Calculate number of diabetics patients in the dataset \\\n",
    "Q2: Group the dataset by age \\\n",
    "Q3: Calculate the patients with normal blood pressure ranges in each group \\\n",
    "Q4: Find out the total cost associated with the project \\\n",
    "Q5: Train a Logistic Regression model to predict the diabetese level of a patient"
   ]
  },
  {
   "cell_type": "markdown",
   "id": "1e8ef0b2",
   "metadata": {},
   "source": [
    "### Create Spark Enviroment"
   ]
  },
  {
   "cell_type": "code",
   "execution_count": 1,
   "id": "5729ff28",
   "metadata": {},
   "outputs": [
    {
     "name": "stdout",
     "output_type": "stream",
     "text": [
      "<pyspark.conf.SparkConf object at 0x000001CF62FA4430>\n",
      "<SparkContext master=local appName=DiabetesPredictor>\n",
      "<pyspark.sql.session.SparkSession object at 0x000001CF7370D370>\n"
     ]
    }
   ],
   "source": [
    "import findspark\n",
    "findspark.init()\n",
    "\n",
    "import pyspark\n",
    "from pyspark import SparkContext, SparkConf\n",
    "from pyspark.sql import SparkSession\n",
    "from pyspark.sql.functions import *\n",
    "\n",
    "myConf = pyspark.SparkConf().setAppName(\"DiabetesPredictor\").setMaster(\"local\")\n",
    "print(myConf)\n",
    "\n",
    "if 'sc' in locals() :\n",
    "    sc.stop()\n",
    "sc = pyspark.SparkContext(conf=myConf).getOrCreate()\n",
    "print(sc)\n",
    "\n",
    "spark = SparkSession(sc)\n",
    "print(spark)"
   ]
  },
  {
   "cell_type": "markdown",
   "id": "ca87033a",
   "metadata": {},
   "source": [
    "### Import dataset and create DFs"
   ]
  },
  {
   "cell_type": "markdown",
   "id": "bf14ca19",
   "metadata": {},
   "source": [
    "#### Diabetics dataset\n",
    "|- patient_id \\\n",
    "|- province_id \\\n",
    "|- hospital_id"
   ]
  },
  {
   "cell_type": "code",
   "execution_count": 2,
   "id": "4a3ee69b",
   "metadata": {
    "scrolled": false
   },
   "outputs": [
    {
     "name": "stdout",
     "output_type": "stream",
     "text": [
      "+----------+-----------+-----------+---+-------+-------------+-------------+-------+----+------------------------+------+\n",
      "|patient_id|province_id|hospital_id|Age|Glucose|BloodPressure|SkinThickness|Insulin| BMI|DiabetesPedigreeFunction|Output|\n",
      "+----------+-----------+-----------+---+-------+-------------+-------------+-------+----+------------------------+------+\n",
      "|         1|          4|          5| 50|    148|           72|           35|      0|33.6|                   0.627|     1|\n",
      "|         2|          3|          5| 31|     85|           66|           29|      0|26.6|                   0.351|     0|\n",
      "|         3|          8|          2| 32|    183|           64|            0|      0|23.3|                   0.672|     1|\n",
      "|         4|          3|          4| 21|     89|           66|           23|     94|28.1|                   0.167|     0|\n",
      "|         5|          7|          4| 33|    137|           40|           35|    168|43.1|                   2.288|     1|\n",
      "|         6|          3|          1| 30|    116|           74|            0|      0|25.6|                   0.201|     0|\n",
      "|         7|          2|          4| 26|     78|           50|           32|     88|  31|                   0.248|     1|\n",
      "|         8|          2|          3| 29|    115|            0|            0|      0|35.3|                   0.134|     0|\n",
      "|         9|          7|          4| 53|    197|           70|           45|    543|30.5|                   0.158|     1|\n",
      "|        10|          2|          0| 54|    125|           96|            0|      0|   0|                   0.232|     1|\n",
      "+----------+-----------+-----------+---+-------+-------------+-------------+-------+----+------------------------+------+\n",
      "only showing top 10 rows\n",
      "\n"
     ]
    }
   ],
   "source": [
    "df = spark.read.csv(\"diabetes_2.csv\", header=True, sep=\",\")\n",
    "df.show(10)"
   ]
  },
  {
   "cell_type": "markdown",
   "id": "0b26ffdf",
   "metadata": {},
   "source": [
    "#### Province wise travel cost\n",
    "|- province_id \\\n",
    "|- travel_cost"
   ]
  },
  {
   "cell_type": "code",
   "execution_count": 3,
   "id": "2c164291",
   "metadata": {
    "scrolled": true
   },
   "outputs": [
    {
     "name": "stdout",
     "output_type": "stream",
     "text": [
      "+-----------+-------------+-----------+\n",
      "|province_id|province_name|travel_cost|\n",
      "+-----------+-------------+-----------+\n",
      "|          0|      Western|        500|\n",
      "|          1|     Southern|       1000|\n",
      "|          2| Sabaragamuwa|       1200|\n",
      "|          3|          Uva|       1500|\n",
      "|          4|North Western|       1500|\n",
      "|          5|     Northern|       3000|\n",
      "|          6|North Central|       2200|\n",
      "|          7|      Eastern|       2500|\n",
      "|          8|      Central|       1800|\n",
      "+-----------+-------------+-----------+\n",
      "\n"
     ]
    }
   ],
   "source": [
    "df_province = spark.read.csv(\"provinces.csv\", header=True, sep=\",\")\n",
    "df_province.show()"
   ]
  },
  {
   "cell_type": "markdown",
   "id": "6ddbb330",
   "metadata": {},
   "source": [
    "#### Hospital charges\n",
    "|- hospital_id \\\n",
    "|- test_charges \\\n",
    "|- discount_limit (offers a 10% discount if the patient count is more than this limit)"
   ]
  },
  {
   "cell_type": "code",
   "execution_count": 4,
   "id": "9cf9383e",
   "metadata": {
    "scrolled": true
   },
   "outputs": [
    {
     "name": "stdout",
     "output_type": "stream",
     "text": [
      "+-----------+---------------+------------+--------------+\n",
      "|hospital_id|  hospital_name|test_charges|discount_limit|\n",
      "+-----------+---------------+------------+--------------+\n",
      "|          0|          Asiri|        4500|           120|\n",
      "|          1|        Durdans|        4150|           130|\n",
      "|          2|       Nawaloka|        4600|           100|\n",
      "|          3|Lanka Hospitals|        4000|           125|\n",
      "|          4|          Hemas|        4250|           140|\n",
      "|          5|          Oasis|        3900|           150|\n",
      "+-----------+---------------+------------+--------------+\n",
      "\n"
     ]
    }
   ],
   "source": [
    "df_hospital = spark.read.csv(\"hospitals.csv\", header=True, sep=\",\")\n",
    "df_hospital.show()"
   ]
  },
  {
   "cell_type": "markdown",
   "id": "2499eb8a",
   "metadata": {},
   "source": [
    "### Q1: Calculate diabetics patients in the dataset"
   ]
  },
  {
   "cell_type": "code",
   "execution_count": 5,
   "id": "562e0edd",
   "metadata": {},
   "outputs": [
    {
     "name": "stdout",
     "output_type": "stream",
     "text": [
      "+------+-----+\n",
      "|Output|count|\n",
      "+------+-----+\n",
      "|     0|  500|\n",
      "|     1|  268|\n",
      "+------+-----+\n",
      "\n",
      "Number of patients \t\t: 768\n",
      "Number of diabetics patients \t: 268 (34.90%)\n"
     ]
    }
   ],
   "source": [
    "df_patients = df.groupBy(\"Output\").count()\n",
    "df_patients.show()\n",
    "diab = df_patients.collect()[1][1]\n",
    "no_diab = df_patients.collect()[0][1]\n",
    "ratio = diab/(diab+no_diab)\n",
    "print(f\"Number of patients \\t\\t: {diab+no_diab}\")\n",
    "print(f\"Number of diabetics patients \\t: {diab} ({ratio*100:.2f}%)\")"
   ]
  },
  {
   "cell_type": "markdown",
   "id": "deedfeec",
   "metadata": {},
   "source": [
    "### Q2: Group the dataset by age \n",
    "(14–18), (19-40), (41-60), 61<"
   ]
  },
  {
   "cell_type": "code",
   "execution_count": 6,
   "id": "d04f8fdc",
   "metadata": {
    "scrolled": true
   },
   "outputs": [
    {
     "name": "stdout",
     "output_type": "stream",
     "text": [
      "Age wise people count\n",
      "Group 01 -> Adolescent (14–18 years) \t: 0 \n",
      "Group 02 -> Adult (19–40 years) \t: 574 \n",
      "Group 03 -> Adult (41–60 years) \t: 167 \n",
      "Group 04 -> Older adult (61 and older) \t: 27 \n",
      "\n"
     ]
    }
   ],
   "source": [
    "df_age_1 = df.filter( col(\"Age\").between(14,18))\n",
    "df_age_2 = df.filter( col(\"Age\").between(19,40))\n",
    "df_age_3 = df.filter( col(\"Age\").between(41,60))\n",
    "df_age_4 = df.filter( col(\"Age\").between(61,120))\n",
    "\n",
    "print(\"Age wise people count\")\n",
    "print(f\"Group 01 -> Adolescent (14–18 years) \\t: {df_age_1.count()} \\n\\\n",
    "Group 02 -> Adult (19–40 years) \\t: {df_age_2.count()} \\n\\\n",
    "Group 03 -> Adult (41–60 years) \\t: {df_age_3.count()} \\n\\\n",
    "Group 04 -> Older adult (61 and older) \\t: {df_age_4.count()} \\n\")"
   ]
  },
  {
   "cell_type": "markdown",
   "id": "e50d0d56",
   "metadata": {},
   "source": [
    "### Q3: Group dataset by age and blood pressure ranges (mm Hg)\n",
    "\n",
    "&emsp;&emsp;&emsp;Age&emsp;&emsp;&emsp;&emsp;&emsp;&emsp;&emsp;&emsp;&emsp;Diastolic Range \\\n",
    "Adolescent (14–18 years)&emsp;&emsp;&emsp;&emsp;50–80 \\\n",
    "Adult (19–40 years)&emsp;&emsp;&emsp;&emsp;&emsp;&emsp;&ensp;&nbsp;60–80 \\\n",
    "Adult (41–60 years)&emsp;&emsp;&emsp;&emsp;&emsp;&emsp;&ensp;&nbsp;70–90 \\\n",
    "Older adult (61 and older)&emsp;&emsp;&emsp;&emsp;70–90"
   ]
  },
  {
   "cell_type": "code",
   "execution_count": 7,
   "id": "50c4b272",
   "metadata": {
    "scrolled": true
   },
   "outputs": [
    {
     "name": "stdout",
     "output_type": "stream",
     "text": [
      "Number of people with normal blood pressure (% of same group)\n",
      "\n",
      "Group 01 :  0 (0.00%)\n",
      "Group 02 :  366 (63.65%)\n",
      "Group 03 :  115 (68.45%)\n",
      "Group 04 :  19 (67.86%)\n"
     ]
    }
   ],
   "source": [
    "pressure = [(50,80), (60,80), (70,90), (70,90)]\n",
    "df_list = [df_age_1, df_age_2, df_age_3, df_age_4]\n",
    "print(\"Number of people with normal blood pressure (% of same group)\\n\")\n",
    "for i in range(4) :\n",
    "    num = df_list[i].filter( col(\"BloodPressure\").between(pressure[i][0], pressure[i][1])).count()\n",
    "    num_ratio = (num/(df_list[i].count()+1))*100\n",
    "    print(\"Group 0%d : \" %(i+1), num, f\"({num_ratio:.2f}%)\")"
   ]
  },
  {
   "cell_type": "markdown",
   "id": "05c1dc46",
   "metadata": {},
   "source": [
    "### Q4: Find out the total cost associated with the project\n",
    "\n",
    "1. Find total travel expenses\n",
    "2. Find total hospital expense\n",
    "3. Get the sum"
   ]
  },
  {
   "cell_type": "code",
   "execution_count": 8,
   "id": "990002cf",
   "metadata": {},
   "outputs": [
    {
     "name": "stdout",
     "output_type": "stream",
     "text": [
      "+-----------+-----+\n",
      "|province_id|count|\n",
      "+-----------+-----+\n",
      "|          7|   91|\n",
      "|          3|  103|\n",
      "|          8|   70|\n",
      "|          0|   71|\n",
      "|          5|   85|\n",
      "|          6|   94|\n",
      "|          1|   90|\n",
      "|          4|   71|\n",
      "|          2|   93|\n",
      "+-----------+-----+\n",
      "\n",
      "+-----------+-----+-----------+-------------+-----------+\n",
      "|province_id|count|province_id|province_name|travel_cost|\n",
      "+-----------+-----+-----------+-------------+-----------+\n",
      "|          7|   91|          7|      Eastern|       2500|\n",
      "|          3|  103|          3|          Uva|       1500|\n",
      "|          8|   70|          8|      Central|       1800|\n",
      "|          0|   71|          0|      Western|        500|\n",
      "|          5|   85|          5|     Northern|       3000|\n",
      "|          6|   94|          6|North Central|       2200|\n",
      "|          1|   90|          1|     Southern|       1000|\n",
      "|          4|   71|          4|North Western|       1500|\n",
      "|          2|   93|          2| Sabaragamuwa|       1200|\n",
      "+-----------+-----+-----------+-------------+-----------+\n",
      "\n",
      "+-----------+-----+-----------+-------------+-----------+--------------------------+\n",
      "|province_id|count|province_id|province_name|travel_cost|province_total_travel_cost|\n",
      "+-----------+-----+-----------+-------------+-----------+--------------------------+\n",
      "|          7|   91|          7|      Eastern|       2500|                  227500.0|\n",
      "|          3|  103|          3|          Uva|       1500|                  154500.0|\n",
      "|          8|   70|          8|      Central|       1800|                  126000.0|\n",
      "|          0|   71|          0|      Western|        500|                   35500.0|\n",
      "|          5|   85|          5|     Northern|       3000|                  255000.0|\n",
      "|          6|   94|          6|North Central|       2200|                  206800.0|\n",
      "|          1|   90|          1|     Southern|       1000|                   90000.0|\n",
      "|          4|   71|          4|North Western|       1500|                  106500.0|\n",
      "|          2|   93|          2| Sabaragamuwa|       1200|                  111600.0|\n",
      "+-----------+-----+-----------+-------------+-----------+--------------------------+\n",
      "\n",
      "Total travel expenses : 145933.33 LKR\n"
     ]
    }
   ],
   "source": [
    "df_province_wise = df.groupBy(\"province_id\").count()\n",
    "df_province_wise.show()\n",
    "df_joined = df_province_wise.join(df_province, df_province.province_id == df_province_wise.province_id)\n",
    "df_joined.show()\n",
    "df_travel = df_joined.withColumn(\"province_total_travel_cost\", col(\"travel_cost\")*col(\"count\"))\n",
    "df_travel.show()\n",
    "total_travel_cost = df_travel.agg(avg(\"province_total_travel_cost\")).collect()[0][0]\n",
    "print(f\"Total travel expenses : {total_travel_cost:.2f} LKR\")"
   ]
  },
  {
   "cell_type": "code",
   "execution_count": 9,
   "id": "18cd8caf",
   "metadata": {},
   "outputs": [
    {
     "name": "stdout",
     "output_type": "stream",
     "text": [
      "+-----------+-----+\n",
      "|hospital_id|count|\n",
      "+-----------+-----+\n",
      "|          0|  123|\n",
      "|          1|  120|\n",
      "|          2|  118|\n",
      "|          3|  131|\n",
      "|          4|  149|\n",
      "|          5|  127|\n",
      "+-----------+-----+\n",
      "\n",
      "+-----+---------------+------------+--------------+\n",
      "|count|  hospital_name|test_charges|discount_limit|\n",
      "+-----+---------------+------------+--------------+\n",
      "|  131|Lanka Hospitals|        4000|           125|\n",
      "|  123|          Asiri|        4500|           120|\n",
      "|  127|          Oasis|        3900|           150|\n",
      "|  120|        Durdans|        4150|           130|\n",
      "|  149|          Hemas|        4250|           140|\n",
      "|  118|       Nawaloka|        4600|           100|\n",
      "+-----+---------------+------------+--------------+\n",
      "\n",
      "+-----+---------------+------------+--------------+-------------+\n",
      "|count|  hospital_name|test_charges|discount_limit|hospital_cost|\n",
      "+-----+---------------+------------+--------------+-------------+\n",
      "|  131|Lanka Hospitals|        4000|           125|     524000.0|\n",
      "|  123|          Asiri|        4500|           120|     553500.0|\n",
      "|  127|          Oasis|        3900|           150|     495300.0|\n",
      "|  120|        Durdans|        4150|           130|     498000.0|\n",
      "|  149|          Hemas|        4250|           140|     633250.0|\n",
      "|  118|       Nawaloka|        4600|           100|     542800.0|\n",
      "+-----+---------------+------------+--------------+-------------+\n",
      "\n",
      "+-----+---------------+------------+--------------+-------------+------------------+\n",
      "|count|  hospital_name|test_charges|discount_limit|hospital_cost|hospital_cost_disc|\n",
      "+-----+---------------+------------+--------------+-------------+------------------+\n",
      "|  131|Lanka Hospitals|        4000|           125|     524000.0|          471600.0|\n",
      "|  123|          Asiri|        4500|           120|     553500.0|          498150.0|\n",
      "|  127|          Oasis|        3900|           150|     495300.0|          495300.0|\n",
      "|  120|        Durdans|        4150|           130|     498000.0|          498000.0|\n",
      "|  149|          Hemas|        4250|           140|     633250.0|          569925.0|\n",
      "|  118|       Nawaloka|        4600|           100|     542800.0|          488520.0|\n",
      "+-----+---------------+------------+--------------+-------------+------------------+\n",
      "\n",
      "Total hospital expenses : 503582.50 LKR\n"
     ]
    }
   ],
   "source": [
    "df_hospital_wise = df.groupBy(\"hospital_id\").count()\n",
    "df_hospital_wise.orderBy(\"hospital_id\").show()\n",
    "df_joined_h = df_hospital_wise.join(df_hospital, df_hospital.hospital_id==df_hospital_wise.hospital_id).drop(\"hospital_id\")\n",
    "df_joined_h.show()\n",
    "df_hospital_cost = df_joined_h.withColumn(\"hospital_cost\", col(\"test_charges\")*col(\"count\"))\n",
    "df_hospital_cost.show()\n",
    "df_hospital_disc = df_hospital_cost.withColumn(\"hospital_cost_disc\", \\\n",
    "                                               when( col(\"count\")>=col(\"discount_limit\"), col(\"hospital_cost\")*0.9). \\\n",
    "                                               otherwise(col(\"hospital_cost\")))\n",
    "df_hospital_disc.show()\n",
    "total_hospital_cost = df_hospital_disc.agg(avg(\"hospital_cost_disc\")).collect()[0][0]\n",
    "print(f\"Total hospital expenses : {total_hospital_cost:.2f} LKR\")"
   ]
  },
  {
   "cell_type": "code",
   "execution_count": 10,
   "id": "4a3ea0b6",
   "metadata": {},
   "outputs": [
    {
     "name": "stdout",
     "output_type": "stream",
     "text": [
      "Total cost associated with the project : 649515.83 LKR\n"
     ]
    }
   ],
   "source": [
    "total_cost = total_travel_cost+total_hospital_cost\n",
    "print(f\"Total cost associated with the project : {total_cost:.2f} LKR\")"
   ]
  },
  {
   "cell_type": "markdown",
   "id": "7fe033f3",
   "metadata": {},
   "source": [
    "### Q5: Train a Logistic Regression Model"
   ]
  },
  {
   "cell_type": "markdown",
   "id": "49a56976",
   "metadata": {},
   "source": [
    "#### Create feature vector"
   ]
  },
  {
   "cell_type": "code",
   "execution_count": 11,
   "id": "6478ef0b",
   "metadata": {},
   "outputs": [
    {
     "name": "stdout",
     "output_type": "stream",
     "text": [
      "+---------------------------------------+\n",
      "|features                               |\n",
      "+---------------------------------------+\n",
      "|[50.0,148.0,72.0,35.0,0.0,33.6,0.627]  |\n",
      "|[31.0,85.0,66.0,29.0,0.0,26.6,0.351]   |\n",
      "|[32.0,183.0,64.0,0.0,0.0,23.3,0.672]   |\n",
      "|[21.0,89.0,66.0,23.0,94.0,28.1,0.167]  |\n",
      "|[33.0,137.0,40.0,35.0,168.0,43.1,2.288]|\n",
      "|[30.0,116.0,74.0,0.0,0.0,25.6,0.201]   |\n",
      "|[26.0,78.0,50.0,32.0,88.0,31.0,0.248]  |\n",
      "|[29.0,115.0,0.0,0.0,0.0,35.3,0.134]    |\n",
      "|[53.0,197.0,70.0,45.0,543.0,30.5,0.158]|\n",
      "|[54.0,125.0,96.0,0.0,0.0,0.0,0.232]    |\n",
      "+---------------------------------------+\n",
      "only showing top 10 rows\n",
      "\n"
     ]
    }
   ],
   "source": [
    "from pyspark.sql.types import IntegerType, DoubleType\n",
    "from pyspark.ml.feature import VectorAssembler\n",
    "\n",
    "features = [\"Age\",\"Glucose\",\"BloodPressure\",\"SkinThickness\",\"Insulin\",\"BMI\",\"DiabetesPedigreeFunction\"]\n",
    "for ft in features :\n",
    "    df = df.withColumn(ft, df[ft].cast(DoubleType()))\n",
    "df = df.withColumn(\"Output\", df[\"Output\"].cast(IntegerType()))\n",
    "#df = df.withColumn(\"label\", df[\"Output\"].cast(IntegerType()))\n",
    "\n",
    "assembleVector = VectorAssembler(inputCols=features, outputCol='features')\n",
    "\n",
    "data = assembleVector.transform(df)\n",
    "data.select('features').show(10, False)"
   ]
  },
  {
   "cell_type": "markdown",
   "id": "f2e9f52a",
   "metadata": {},
   "source": [
    "#### Split data into training and test sets"
   ]
  },
  {
   "cell_type": "code",
   "execution_count": 12,
   "id": "c1902b97",
   "metadata": {},
   "outputs": [
    {
     "name": "stdout",
     "output_type": "stream",
     "text": [
      "+----------+-----------+-----------+----+-------+-------------+-------------+-------+----+------------------------+------+---------------------------------------+\n",
      "|patient_id|province_id|hospital_id|Age |Glucose|BloodPressure|SkinThickness|Insulin|BMI |DiabetesPedigreeFunction|Output|features                               |\n",
      "+----------+-----------+-----------+----+-------+-------------+-------------+-------+----+------------------------+------+---------------------------------------+\n",
      "|100       |3          |1          |31.0|122.0  |90.0         |51.0         |220.0  |49.7|0.325                   |1     |[31.0,122.0,90.0,51.0,220.0,49.7,0.325]|\n",
      "|101       |5          |4          |33.0|163.0  |72.0         |0.0          |0.0    |39.0|1.222                   |1     |[33.0,163.0,72.0,0.0,0.0,39.0,1.222]   |\n",
      "|102       |4          |0          |22.0|151.0  |60.0         |0.0          |0.0    |26.1|0.179                   |0     |[22.0,151.0,60.0,0.0,0.0,26.1,0.179]   |\n",
      "|109       |1          |1          |25.0|83.0   |58.0         |31.0         |18.0   |34.3|0.336                   |0     |[25.0,83.0,58.0,31.0,18.0,34.3,0.336]  |\n",
      "|11        |7          |1          |30.0|110.0  |92.0         |0.0          |0.0    |37.6|0.191                   |0     |[30.0,110.0,92.0,0.0,0.0,37.6,0.191]   |\n",
      "+----------+-----------+-----------+----+-------+-------------+-------------+-------+----+------------------------+------+---------------------------------------+\n",
      "only showing top 5 rows\n",
      "\n"
     ]
    }
   ],
   "source": [
    "training_data, test_data = data.randomSplit([0.7,0.3])\n",
    "test_data.show(5, False)"
   ]
  },
  {
   "cell_type": "markdown",
   "id": "5977372f",
   "metadata": {},
   "source": [
    "#### Create, train and evaluate model"
   ]
  },
  {
   "cell_type": "code",
   "execution_count": 13,
   "id": "7c526a9a",
   "metadata": {},
   "outputs": [
    {
     "name": "stdout",
     "output_type": "stream",
     "text": [
      "Logistic Regression Accuracy: 67.69 %\n"
     ]
    }
   ],
   "source": [
    "from pyspark.ml.classification import LogisticRegression\n",
    "from pyspark.ml.evaluation import MulticlassClassificationEvaluator\n",
    "\n",
    "lr = LogisticRegression(labelCol='Output', featuresCol='features', maxIter=10, regParam=0.3, elasticNetParam=0.8)\n",
    "\n",
    "model = lr.fit(training_data)\n",
    "predictions = model.transform(test_data)\n",
    "\n",
    "multi_evaluator = MulticlassClassificationEvaluator(labelCol = 'Output', metricName = 'accuracy')\n",
    "accuracy = multi_evaluator.evaluate(predictions)\n",
    "print(f'Logistic Regression Accuracy: {accuracy*100:.2f} %' )"
   ]
  },
  {
   "cell_type": "markdown",
   "id": "0262d962",
   "metadata": {},
   "source": [
    "#### Evaluate and plot model coefficients"
   ]
  },
  {
   "cell_type": "code",
   "execution_count": 14,
   "id": "bb825267",
   "metadata": {},
   "outputs": [
    {
     "name": "stdout",
     "output_type": "stream",
     "text": [
      "Coefficients: (7,[],[])\n",
      "Intercept: -0.5756862579680316\n"
     ]
    },
    {
     "data": {
      "image/png": "[encoded data removed]",
      "text/plain": [
       "<Figure size 432x288 with 1 Axes>"
      ]
     },
     "metadata": {
      "needs_background": "light"
     },
     "output_type": "display_data"
    }
   ],
   "source": [
    "import matplotlib.pyplot as plt\n",
    "import numpy as np\n",
    "\n",
    "print(\"Coefficients: \" + str(model.coefficients))\n",
    "print(\"Intercept: \" + str(model.intercept))\n",
    "\n",
    "beta = np.sort(model.coefficients)\n",
    "plt.plot(beta)\n",
    "plt.ylabel('Beta Coefficients')\n",
    "plt.show()"
   ]
  },
  {
   "cell_type": "markdown",
   "id": "c04c3899",
   "metadata": {},
   "source": [
    "#### Plot ROC curve"
   ]
  },
  {
   "cell_type": "code",
   "execution_count": 15,
   "id": "58ee52ad",
   "metadata": {},
   "outputs": [
    {
     "name": "stdout",
     "output_type": "stream",
     "text": [
      "objectiveHistory:\n",
      "0.6533754842037881\n",
      "+---+---+\n",
      "|FPR|TPR|\n",
      "+---+---+\n",
      "|0.0|0.0|\n",
      "|1.0|1.0|\n",
      "|1.0|1.0|\n",
      "+---+---+\n",
      "\n",
      "areaUnderROC: 0.5\n"
     ]
    },
    {
     "data": {
      "image/png": "[encoded data removed]",
      "text/plain": [
       "<Figure size 360x360 with 1 Axes>"
      ]
     },
     "metadata": {
      "needs_background": "light"
     },
     "output_type": "display_data"
    }
   ],
   "source": [
    "trainingSummary = model.summary\n",
    "\n",
    "# Obtain the objective per iteration\n",
    "objectiveHistory = trainingSummary.objectiveHistory\n",
    "print(\"objectiveHistory:\")\n",
    "for objective in objectiveHistory:\n",
    "    print(objective)\n",
    "\n",
    "# Obtain the receiver-operating characteristic as a dataframe and areaUnderROC.\n",
    "trainingSummary.roc.show()\n",
    "print(\"areaUnderROC: \" + str(trainingSummary.areaUnderROC))\n",
    "\n",
    "# Set the model threshold to maximize F-Measure\n",
    "fMeasure = trainingSummary.fMeasureByThreshold\n",
    "maxFMeasure = fMeasure.groupBy().max('F-Measure').select('max(F-Measure)').head()\n",
    "bestThreshold = fMeasure.where(fMeasure['F-Measure'] == maxFMeasure['max(F-Measure)']) \\\n",
    "    .select('threshold').head()['threshold']\n",
    "lr.setThreshold(bestThreshold)\n",
    "\n",
    "plt.figure(figsize=(5,5))\n",
    "plt.plot([0, 1], [0, 1], 'r--')\n",
    "plt.plot(model.summary.roc.select('FPR').collect(),\n",
    "         model.summary.roc.select('TPR').collect())\n",
    "plt.xlabel('FPR')\n",
    "plt.ylabel('TPR')\n",
    "plt.show()"
   ]
  },
  {
   "cell_type": "markdown",
   "id": "20f92cb3",
   "metadata": {},
   "source": [
    "### Multilayer Perceptron Classifier Model\n",
    "\n",
    "Multilayer perceptron classifier (MLPC) is a classifier based on the feedforward artificial neural network. MLPC consists of multiple layers of nodes. Each layer is fully connected to the next layer in the network. Nodes in the input layer represent the input data. All other nodes map inputs to outputs by a linear combination of the inputs with the node’s weights w and bias b and applying an activation function.\n",
    "\n",
    "This can be written in matrix form for MLPC with K+1 layers as follows:\n",
    "\n",
    "&emsp;&emsp;$y$($x$) = $f_{K}$(...$f_{2}$($w_{2}^{T}$$f_{1}$($w_{1}^{T}$x+$b_{1}$)+$b_{2}$)...+$b_{K}$)\n",
    "\n",
    "Nodes in intermediate layers : sigmoid (logistic) function \\\n",
    "Nodes in the output layer : softmax function \\\n",
    "The number of nodes N in the output layer corresponds to the number of classes.\n",
    "\n",
    "MLPC employs backpropagation for learning the model. We use the logistic loss function for optimization and L-BFGS as an optimization routine."
   ]
  },
  {
   "cell_type": "code",
   "execution_count": 16,
   "id": "28e243a9",
   "metadata": {},
   "outputs": [],
   "source": [
    "# from pyspark.ml.feature import StandardScaler\n",
    "# from pyspark.ml import Pipeline\n",
    "# from pyspark.ml.classification import MultilayerPerceptronClassifier\n",
    "# from pyspark.ml.evaluation import MulticlassClassificationEvaluator\n",
    "\n",
    "# layers = [4, 5, 4, 3]\n",
    "# scaler = StandardScaler(inputCol=\"features\", outputCol=\"feature\",withStd=True, withMean=True)\n",
    "# mlpc = MultilayerPerceptronClassifier(maxIter=100, layers=layers, blockSize=128, seed=1234)\n",
    "# ml_pipeline = Pipeline(stages=[scaler, mlpc])\n",
    "\n",
    "# model = ml_pipeline.fit(training_data)\n",
    "\n",
    "# result = model.transform(test_data)\n",
    "\n",
    "\n",
    "# predictionAndLabels = result.select(\"prediction\", \"label\")\n",
    "# evaluator = MulticlassClassificationEvaluator(metricName=\"accuracy\")\n",
    "# print(\"Test set accuracy = \" + str(evaluator.evaluate(result)))"
   ]
  }
 ],
 "metadata": {
  "kernelspec": {
   "display_name": "Python 3",
   "language": "python",
   "name": "python3"
  },
  "language_info": {
   "codemirror_mode": {
    "name": "ipython",
    "version": 3
   },
   "file_extension": ".py",
   "mimetype": "text/x-python",
   "name": "python",
   "nbconvert_exporter": "python",
   "pygments_lexer": "ipython3",
   "version": "3.9.1"
  }
 },
 "nbformat": 4,
 "nbformat_minor": 5
}
